{
 "cells": [
  {
   "cell_type": "code",
   "execution_count": 1,
   "metadata": {
    "collapsed": false,
    "deletable": true,
    "editable": true
   },
   "outputs": [
    {
     "name": "stderr",
     "output_type": "stream",
     "text": [
      "Using TensorFlow backend.\n"
     ]
    },
    {
     "name": "stdout",
     "output_type": "stream",
     "text": [
      "Couldn't import dot_parser, loading of dot files will not be possible.\n"
     ]
    }
   ],
   "source": [
    "import os\n",
    "\n",
    "os.environ['CUDA_DEVICE_ORDER'] = 'PCI_BUS_ID'\n",
    "os.environ['CUDA_VISIBLE_DEVICES']=\"1\" # -1 == cpu, 0,1 == gpus 0,1\n",
    "import math\n",
    "import json\n",
    "import numpy as np\n",
    "import tensorflow as tf\n",
    "import matplotlib.pyplot as plt\n",
    "import skimage.io\n",
    "import skimage.transform\n",
    "import skimage.filters\n",
    "import keras\n",
    "from keras.applications import vgg16\n",
    "from keras import backend as K\n",
    "from keras.models import load_model\n",
    "from keras.models import model_from_json\n",
    "import cv2\n",
    "# Allow graph embeding in notebook\n",
    "%matplotlib inline"
   ]
  },
  {
   "cell_type": "code",
   "execution_count": 2,
   "metadata": {
    "collapsed": true,
    "deletable": true,
    "editable": true
   },
   "outputs": [],
   "source": [
    "def tensor_summary(tensor):\n",
    "    \"\"\"Display shape, min, and max values of a tensor.\"\"\"\n",
    "    print(\"shape: {}  min: {}  max: {}\".format(tensor.shape, tensor.min(), tensor.max()))\n",
    "\n",
    "    \n",
    "def normalize(image):\n",
    "    \"\"\"Takes a tensor of 3 dimensions (height, width, colors) and normalizes it's values\n",
    "    to be between 0 and 1 so it's suitable for displaying as an image.\"\"\"\n",
    "    image = image.astype(np.float32)\n",
    "    return (image - image.min()) / (image.max() - image.min() + 1e-5)\n",
    "\n",
    "\n",
    "def display_images(images, titles=None, cols=5, interpolation=None, cmap=\"Greys_r\"):\n",
    "    \"\"\"\n",
    "    images: A list of images. I can be either:\n",
    "        - A list of Numpy arrays. Each array represents an image.\n",
    "        - A list of lists of Numpy arrays. In this case, the images in\n",
    "          the inner lists are concatentated to make one image.\n",
    "    \"\"\"\n",
    "    titles = titles or [\"\"] * len(images)\n",
    "    rows = math.ceil(len(images) / cols)\n",
    "    height_ratio = 1.2 * (rows/cols) * (0.5 if type(images[0]) is not np.ndarray else 1)\n",
    "    plt.figure(figsize=(11, 11 * height_ratio))\n",
    "    i = 1\n",
    "    for image, title in zip(images, titles):\n",
    "        plt.subplot(rows, cols, i)\n",
    "        plt.axis(\"off\")\n",
    "        # Is image a list? If so, merge them into one image.\n",
    "        if type(image) is not np.ndarray:\n",
    "            image = [normalize(g) for g in image]\n",
    "            image = np.concatenate(image, axis=1)\n",
    "        else:\n",
    "            image = normalize(image)\n",
    "        plt.title(title, fontsize=9)\n",
    "        plt.imshow(image, cmap=cmap, interpolation=interpolation)\n",
    "        i += 1"
   ]
  },
  {
   "cell_type": "code",
   "execution_count": 3,
   "metadata": {
    "collapsed": true,
    "deletable": true,
    "editable": true
   },
   "outputs": [],
   "source": [
    "def build_backprop(model, loss):\n",
    "    # Gradient of the input image with respect to the loss function\n",
    "    gradients = K.gradients(loss, model.input)[0]\n",
    "    # Normalize the gradients\n",
    "    gradients /= (K.sqrt(K.mean(K.square(gradients))) + 1e-5)\n",
    "    # Keras function to calculate the gradients and loss\n",
    "    return K.function([model.input], [loss, gradients])"
   ]
  },
  {
   "cell_type": "code",
   "execution_count": 4,
   "metadata": {
    "collapsed": false,
    "deletable": true,
    "editable": true
   },
   "outputs": [],
   "source": [
    "#model  = load_model('/home/user/keras/examples/mnist.h5')\n",
    "with open('modelcfg.json') as fi:\n",
    "    json_str = json.load(fi)\n",
    "model = model_from_json(json.dumps(json_str))\n",
    "model.load_weights('weights.hdf5')"
   ]
  },
  {
   "cell_type": "code",
   "execution_count": 5,
   "metadata": {
    "collapsed": false,
    "deletable": true,
    "editable": true
   },
   "outputs": [
    {
     "name": "stdout",
     "output_type": "stream",
     "text": [
      "_________________________________________________________________\n",
      "Layer (type)                 Output Shape              Param #   \n",
      "=================================================================\n",
      "conv2d_1 (Conv2D)            (None, 24, 24, 32)        896       \n",
      "_________________________________________________________________\n",
      "activation_1 (Activation)    (None, 24, 24, 32)        0         \n",
      "_________________________________________________________________\n",
      "conv2d_2 (Conv2D)            (None, 22, 22, 32)        9248      \n",
      "_________________________________________________________________\n",
      "activation_2 (Activation)    (None, 22, 22, 32)        0         \n",
      "_________________________________________________________________\n",
      "max_pooling2d_1 (MaxPooling2 (None, 11, 11, 32)        0         \n",
      "_________________________________________________________________\n",
      "conv2d_3 (Conv2D)            (None, 11, 11, 64)        18496     \n",
      "_________________________________________________________________\n",
      "activation_3 (Activation)    (None, 11, 11, 64)        0         \n",
      "_________________________________________________________________\n",
      "conv2d_4 (Conv2D)            (None, 9, 9, 64)          36928     \n",
      "_________________________________________________________________\n",
      "activation_4 (Activation)    (None, 9, 9, 64)          0         \n",
      "_________________________________________________________________\n",
      "max_pooling2d_2 (MaxPooling2 (None, 4, 4, 64)          0         \n",
      "_________________________________________________________________\n",
      "flatten_1 (Flatten)          (None, 1024)              0         \n",
      "_________________________________________________________________\n",
      "dense_1 (Dense)              (None, 512)               524800    \n",
      "_________________________________________________________________\n",
      "activation_5 (Activation)    (None, 512)               0         \n",
      "_________________________________________________________________\n",
      "dense_2 (Dense)              (None, 128)               65664     \n",
      "_________________________________________________________________\n",
      "dense_3 (Dense)              (None, 6)                 774       \n",
      "_________________________________________________________________\n",
      "predictions (Activation)     (None, 6)                 0         \n",
      "=================================================================\n",
      "Total params: 656,806\n",
      "Trainable params: 656,806\n",
      "Non-trainable params: 0\n",
      "_________________________________________________________________\n",
      "None\n"
     ]
    }
   ],
   "source": [
    "print model.summary()"
   ]
  },
  {
   "cell_type": "code",
   "execution_count": 22,
   "metadata": {
    "collapsed": false,
    "deletable": true,
    "editable": true
   },
   "outputs": [],
   "source": [
    "label_map = {1: 'a', 2: 'h', 3: 'm', 4: 'o', 5: 's', 0: 'T'}\n",
    "name = 'Thomas'\n",
    "reverse_map = {}"
   ]
  },
  {
   "cell_type": "code",
   "execution_count": null,
   "metadata": {
    "collapsed": false,
    "deletable": true,
    "editable": true
   },
   "outputs": [],
   "source": []
  },
  {
   "cell_type": "code",
   "execution_count": null,
   "metadata": {
    "collapsed": false,
    "deletable": true,
    "editable": true
   },
   "outputs": [],
   "source": []
  },
  {
   "cell_type": "code",
   "execution_count": 7,
   "metadata": {
    "collapsed": false,
    "deletable": true,
    "editable": true
   },
   "outputs": [],
   "source": [
    "# Iteratively apply gradient ascent\n",
    "def get_image(random_image):\n",
    "    for i in range(500):\n",
    "        loss, grads = backprop([random_image])\n",
    "\n",
    "        # Multiply gradients by the learning rate and add to the image\n",
    "        # Optionally, apply a gaussian filter to the gradients to smooth\n",
    "        # out the generated image. This gives better results.\n",
    "        # The first line, which is commented out, is the native method\n",
    "        # and the following line uses the filter. Try with both to\n",
    "        # see the difference.\n",
    "        #\n",
    "        random_image += grads * .1\n",
    "        #random_image += skimage.filters.gaussian(np.clip(grads, -1, 1), 2) \n",
    "\n",
    "        # Print loss value\n",
    "        if i % 100 == 0:\n",
    "            print('Loss:', loss)\n",
    "    predictions = model.predict(random_image)\n",
    "    print predictions\n",
    "    return random_image"
   ]
  },
  {
   "cell_type": "code",
   "execution_count": null,
   "metadata": {
    "collapsed": false,
    "deletable": true,
    "editable": true
   },
   "outputs": [],
   "source": []
  },
  {
   "cell_type": "code",
   "execution_count": 27,
   "metadata": {
    "collapsed": false,
    "deletable": true,
    "editable": true
   },
   "outputs": [],
   "source": [
    "def save_image(im_name,image):\n",
    "    factor = 16\n",
    "    scaled = np.repeat(image,factor,axis=1)\n",
    "    scaled = np.repeat(scaled,factor,axis=2)\n",
    "    im = np.squeeze(scaled)*255\n",
    "    im = im.astype(np.uint8)\n",
    "    cv2.imwrite(im_name+'.tif',im)\n",
    "    bw = cv2.cvtColor(im,cv2.COLOR_RGB2GRAY)\n",
    "    cv2.imwrite(im_name+'_bw.tif',bw)\n",
    "    return im,bw"
   ]
  },
  {
   "cell_type": "code",
   "execution_count": 28,
   "metadata": {
    "collapsed": false,
    "deletable": true,
    "editable": true
   },
   "outputs": [
    {
     "name": "stdout",
     "output_type": "stream",
     "text": [
      "('Loss:', 0.28237203)\n",
      "('Loss:', 1.0)\n",
      "('Loss:', 1.0)\n",
      "('Loss:', 1.0)\n",
      "('Loss:', 1.0)\n",
      "[[  1.00000000e+00   3.89690891e-15   2.37479790e-18   4.79984275e-10\n",
      "    3.84357232e-13   4.08063967e-15]]\n",
      "('Loss:', 0.0040964135)\n",
      "('Loss:', 1.0)\n",
      "('Loss:', 1.0)\n",
      "('Loss:', 1.0)\n",
      "('Loss:', 1.0)\n",
      "[[  2.49515544e-14   1.00000000e+00   1.01154453e-15   2.69899761e-25\n",
      "    8.02959519e-14   8.96402830e-12]]\n",
      "('Loss:', 0.027503045)\n",
      "('Loss:', 1.0)\n",
      "('Loss:', 1.0)\n",
      "('Loss:', 1.0)\n",
      "('Loss:', 1.0)\n",
      "[[  6.39649127e-14   1.86542351e-10   1.00000000e+00   1.10252377e-13\n",
      "    7.61091259e-11   1.51009695e-12]]\n",
      "('Loss:', 0.0066232225)\n",
      "('Loss:', 1.0)\n",
      "('Loss:', 1.0)\n",
      "('Loss:', 1.0)\n",
      "('Loss:', 1.0)\n",
      "[[  2.98545211e-09   1.36589268e-10   2.28166730e-09   1.00000000e+00\n",
      "    3.09247489e-10   3.70609576e-14]]\n",
      "('Loss:', 0.56726795)\n",
      "('Loss:', 1.0)\n",
      "('Loss:', 1.0)\n",
      "('Loss:', 1.0)\n",
      "('Loss:', 1.0)\n",
      "[[  2.46139636e-10   6.50712018e-17   1.07753673e-09   8.62956733e-13\n",
      "    1.00000000e+00   2.34437969e-10]]\n",
      "('Loss:', 0.0084030842)\n",
      "('Loss:', 1.0)\n",
      "('Loss:', 1.0)\n",
      "('Loss:', 1.0)\n",
      "('Loss:', 1.0)\n",
      "[[  3.87009225e-09   6.96901314e-10   1.95214955e-09   1.83383975e-13\n",
      "    1.66840919e-09   1.00000000e+00]]\n"
     ]
    }
   ],
   "source": [
    "for i in range(6):\n",
    "    random_image = np.random.random((1, 24, 24, 3))\n",
    "    loss_function = K.mean(model.get_layer(\"predictions\").output[:,i])\n",
    "    backprop = build_backprop(model, loss_function)\n",
    "    image = get_image(random_image)\n",
    "    reverse_map[label_map[i]] = save_image(label_map[i],image)"
   ]
  },
  {
   "cell_type": "code",
   "execution_count": 38,
   "metadata": {
    "collapsed": false,
    "deletable": true,
    "editable": true
   },
   "outputs": [],
   "source": [
    "stacked = np.hstack([reverse_map[letter][0] for letter in name])"
   ]
  },
  {
   "cell_type": "code",
   "execution_count": 39,
   "metadata": {
    "collapsed": false,
    "deletable": true,
    "editable": true
   },
   "outputs": [
    {
     "data": {
      "text/plain": [
       "True"
      ]
     },
     "execution_count": 39,
     "metadata": {},
     "output_type": "execute_result"
    }
   ],
   "source": [
    "cv2.imwrite('stacked.tif',stacked)"
   ]
  },
  {
   "cell_type": "code",
   "execution_count": null,
   "metadata": {
    "collapsed": true,
    "deletable": true,
    "editable": true
   },
   "outputs": [],
   "source": []
  }
 ],
 "metadata": {
  "kernelspec": {
   "display_name": "Python 2",
   "language": "python",
   "name": "python2"
  },
  "language_info": {
   "codemirror_mode": {
    "name": "ipython",
    "version": 2
   },
   "file_extension": ".py",
   "mimetype": "text/x-python",
   "name": "python",
   "nbconvert_exporter": "python",
   "pygments_lexer": "ipython2",
   "version": "2.7.12"
  }
 },
 "nbformat": 4,
 "nbformat_minor": 2
}
